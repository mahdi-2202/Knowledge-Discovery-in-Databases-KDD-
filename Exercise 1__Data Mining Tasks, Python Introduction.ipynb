{
 "cells": [
  {
   "cell_type": "markdown",
   "metadata": {},
   "source": [
    "# Knowledge Discovery and Data Mining\n",
    "# Exercise 1: Data Mining Tasks, Python Introduction\n",
    "\n",
    "## Exercise 1-2 - Python Introduction (Solution)\n",
    "\n",
    "In this tutorial, we want to give you a short introduction in Python and some insights into the basic usage of some common libraries in the scope of Data Science."
   ]
  },
  {
   "cell_type": "markdown",
   "metadata": {},
   "source": [
    "### Installing Python\n",
    "\n",
    "* <strong>Anaconda distribution (*recommended)</strong>\n",
    "\n",
    "Visit the website https://docs.anaconda.com/anaconda/install/index.html and download the Anaconda distribution for the Python 3.9 version. Starting the Anaconda-Navigator enables us to start jupyter notebooks coming along with the installation of the anaconda distribution. If preferred, install also an IDE/editor of your choice, e.g. PyCharm.\n",
    "\n",
    "The Anaconda distribution provides a plethora of pre-installed libraries (numpy, scipy, pandas, ...) which otherwise have to be installed individually. If you need an additional library which is not initially included in Anaconda, you can install the lib via \"conda install PACKAGENAME\". (Further information can be looked up in the documentation: https://conda.io/docs/index.html)\n",
    "\n",
    "There is also a more lighweight version of Anaconda, called Miniconda (https://docs.conda.io/en/latest/miniconda.html)\n",
    "\n",
    "* <strong>W/o distribution</strong>\n",
    "\n",
    "Visit https://www.python.org/downloads/ and download your preferred python version. Next, go to https://pip.pypa.io/en/stable/installing/ and install $pip$. With $pip$ being installed one can install each package individually. For example, to install the packages $numpy, scipy, matplotlib, ipython, jupyter, pandas$, execute the following command:<br/>\n",
    "> pip install --user numpy scipy matplotlib ipython jupyter pandas\n",
    "\n",
    "If you need an additional package during the course, don't forget to install the libraries which might be handy on your way becoming a data scientist :)"
   ]
  },
  {
   "cell_type": "markdown",
   "metadata": {},
   "source": [
    "### First steps - Commenting, variable assignment, printing"
   ]
  },
  {
   "cell_type": "markdown",
   "metadata": {},
   "source": [
    "<strong>How to comment your code.</strong> There a single line comments and multi-line comments. Just try them out. Comments are ignored by the parser. Commenting your code is beneficial, not only for you but also for everybody who gets in touch with your code. "
   ]
  },
  {
   "cell_type": "code",
   "execution_count": 2,
   "metadata": {},
   "outputs": [
    {
     "data": {
      "text/plain": [
       "'\\nThis is not a block comment\\n'"
      ]
     },
     "execution_count": 2,
     "metadata": {},
     "output_type": "execute_result"
    }
   ],
   "source": [
    "#This is a comment\n",
    "\"\"\"\n",
    "This is not a block comment\n",
    "\"\"\""
   ]
  },
  {
   "cell_type": "code",
   "execution_count": 3,
   "metadata": {},
   "outputs": [
    {
     "name": "stdout",
     "output_type": "stream",
     "text": [
      "1\n"
     ]
    }
   ],
   "source": [
    "\"\"\"\n",
    "This is a block comment\n",
    "\"\"\"\n",
    "\n",
    "'''\n",
    "This is also a block comment\n",
    "'''\n",
    "print (1)     #after a multi-line comment there must be a excuting code\n"
   ]
  },
  {
   "cell_type": "markdown",
   "metadata": {},
   "source": [
    "<strong>Python assignment Operators</strong>"
   ]
  },
  {
   "cell_type": "code",
   "execution_count": 5,
   "metadata": {},
   "outputs": [
    {
     "name": "stdout",
     "output_type": "stream",
     "text": [
      "3\n",
      "-1\n",
      "6\n",
      "8\n",
      "1.3333333333333333\n",
      "1\n",
      "1\n"
     ]
    }
   ],
   "source": [
    "print (1+2)\n",
    "print (1-2)\n",
    "print (2*3)\n",
    "print (2**3)\n",
    "print (4/3)\n",
    "print (4//3)\n",
    "print (4%3)"
   ]
  },
  {
   "cell_type": "markdown",
   "metadata": {},
   "source": [
    "<strong>Special sighns</strong>"
   ]
  },
  {
   "cell_type": "code",
   "execution_count": 1,
   "metadata": {},
   "outputs": [
    {
     "name": "stdout",
     "output_type": "stream",
     "text": [
      "a\n",
      "b\tc\"d\\e'f\n",
      "\n",
      "\"hi\"\n"
     ]
    }
   ],
   "source": [
    "print (\"a\\nb\\tc\\\"d\\\\e\\'f\")     #print (\"\"hi\"\") ->  error\n",
    "print (\"\\n\\\"hi\\\"\")"
   ]
  },
  {
   "cell_type": "markdown",
   "metadata": {},
   "source": [
    "<b>Variable types</b>\n",
    "Python provides standard data types −\n",
    "<ul>\n",
    "<li>Numerical Values: int, float, complex</li>\n",
    "<li>String</li>\n",
    "<li>Boolean\n",
    "<li>List</li>\n",
    "<li>Tuple</li>\n",
    "<li>Dictionary</li>\n",
    "</ul>"
   ]
  },
  {
   "cell_type": "markdown",
   "metadata": {},
   "source": [
    "<b>Assigning Values to Variables.</b> Create variables and assign numbers, strings, floating values to them. Print the variable values."
   ]
  },
  {
   "cell_type": "code",
   "execution_count": 4,
   "metadata": {},
   "outputs": [
    {
     "name": "stdout",
     "output_type": "stream",
     "text": [
      "Thomas Seidl\n"
     ]
    }
   ],
   "source": [
    "prof = \"Thomas Seidl\"\n",
    "assistant = \"Maxi\"\n",
    "no_studs = 22\n",
    "temp = 13.0 \n",
    "\n",
    "print (prof)"
   ]
  },
  {
   "cell_type": "markdown",
   "metadata": {},
   "source": [
    "<strong>Boolean. </strong> Booleans are used in order to check whether a specific condition holds.  The result of a logical expression is binary indicated by the keywords <b>True</b> or <b>False</b>. Create some binary variables with the operators $==, !=, in, is$."
   ]
  },
  {
   "cell_type": "code",
   "execution_count": null,
   "metadata": {},
   "outputs": [],
   "source": []
  },
  {
   "cell_type": "code",
   "execution_count": 1,
   "metadata": {},
   "outputs": [
    {
     "name": "stdout",
     "output_type": "stream",
     "text": [
      "1:  False\n",
      "2:  True\n",
      "3:  True\n",
      "4:  True\n",
      "5:  False\n",
      "6:  True\n",
      "7:  False\n",
      "8:  True\n",
      "5\n"
     ]
    }
   ],
   "source": [
    "flag_ = True\n",
    "a = 6 \n",
    "b = 9\n",
    "s1 = \"Hey.\"\n",
    "s2 = \"Hi.\"\n",
    "s3 = s1\n",
    "l = [\"ML\", 2, \"Learn\"]\n",
    "\n",
    "print (\"1: \",a == b)\n",
    "print (\"2: \",a != b)\n",
    "print (\"3: \",s1 != s2)\n",
    "print (\"4: \",\"ML\" in l)   #true if sequence with the value \"ML\" is in the list l\n",
    "print (\"5: \",2 not in l)\n",
    "print (\"6: \",s3 is s1)    #true if both variables are the same object\n",
    "print (\"7: \",s3 is s2)\n",
    "print(\"8: \",flag_)"
   ]
  },
  {
   "cell_type": "markdown",
   "metadata": {},
   "source": [
    "<strong>String.</strong> Strings are a sequence of letters enclosed by either single or double quotes. How to get the length of a string?"
   ]
  },
  {
   "cell_type": "code",
   "execution_count": 3,
   "metadata": {},
   "outputs": [
    {
     "name": "stdout",
     "output_type": "stream",
     "text": [
      "Hello, i'm a string using double quotes\n",
      "Nice one! I'm using single quotes and show also how escaping works by using backslashes \\\n",
      "39\n"
     ]
    }
   ],
   "source": [
    "s1 = \"Hello, i'm a string using double quotes\"\n",
    "s2 = 'Nice one! I\\'m using single quotes and show also how escaping works by using backslashes \\\\'\n",
    "print (s1)\n",
    "print (s2)\n",
    "print(len(s1))"
   ]
  },
  {
   "cell_type": "markdown",
   "metadata": {},
   "source": [
    "<b>Lists.</b> Create a list which contains all numbers from 0 to 10 in different ways."
   ]
  },
  {
   "cell_type": "code",
   "execution_count": 1,
   "metadata": {},
   "outputs": [
    {
     "name": "stdout",
     "output_type": "stream",
     "text": [
      "[0, 1, 2, 3, 4, 5, 6, 7, 8, 9, 10]\n",
      "[0, 1, 2, 3, 4, 5, 6, 7, 8, 9, 10]\n",
      "[0, 1, 2, 3, 4, 5, 6, 7, 8, 9, 10]\n",
      "[0, 1, 2, 3, 4, 5, 6, 7, 8, 9, 10]\n",
      "[0, 1, 4, 9, 16, 25, 36, 49, 64, 81, 100]\n"
     ]
    }
   ],
   "source": [
    "l0 = [0,1,2,3,4,5,6,7,8,9,10]\n",
    "l00 = list(range(0,11))            #range(start,end)\n",
    "l000 = [x for x in range(11)]      #range(end) = range(0,end)\n",
    "l0000 = [x for x in l0]\n",
    "l00000 = [x**2 for x in range(11)]\n",
    "print (l0)\n",
    "print (l00)\n",
    "print (l000)\n",
    "print (l0000)\n",
    "print (l00000)\n"
   ]
  },
  {
   "cell_type": "markdown",
   "metadata": {},
   "source": [
    "<b>Assignments. </b> Given a list $a=['I','like','cookies']$ and another list $b=a$. Replace in the list $b$ the word $'cookies'$ with $'apples'$. Finally, print both lists ($a$ and $b$). What do you observe? What leads to the observed behavior?"
   ]
  },
  {
   "cell_type": "code",
   "execution_count": 9,
   "metadata": {},
   "outputs": [
    {
     "name": "stdout",
     "output_type": "stream",
     "text": [
      "list a: ['I', 'like', 'apples']\n",
      "list b: ['I', 'like', 'apples']\n",
      "2445084135296 2445084135296 2445084133184\n",
      "[1, 2, 2]\n",
      "[1, 'h', True]\n"
     ]
    }
   ],
   "source": [
    "a = ['I','like','cookies']\n",
    "b = a                           #become both of them same object\n",
    "c = ['I','like','cookies']\n",
    "\n",
    "b[2] = 'apples'                 #Lists changeable\n",
    "print(\"list a: \"+str(a))        #str():str(3.5)=\"3.5\"\n",
    "print(\"list b: \"+str(b))        #int():int(\"3.5\")=3.5\n",
    "\n",
    "print(id(a),id(b),id(c))       #a and b same object but c different object\n",
    "\n",
    "d = [1,2,2]                    #Duplicates possible and ordered how is already given\n",
    "print (d)\n",
    "\n",
    "e = [1,\"h\",True]                #can have all kinds of data types\n",
    "print (e)\n"
   ]
  },
  {
   "cell_type": "markdown",
   "metadata": {},
   "source": [
    "<b>List reverse.</b> Given the following list $a=[0,1,2,3,4,5]$. Print the list in reverse order. Also, print the list elements at the entries 2-4."
   ]
  },
  {
   "cell_type": "code",
   "execution_count": 4,
   "metadata": {},
   "outputs": [
    {
     "name": "stdout",
     "output_type": "stream",
     "text": [
      "[5, 4, 3, 2, 1, 0]\n",
      "[2, 3, 4]\n",
      "[0, 2, 4]\n"
     ]
    }
   ],
   "source": [
    "a = [0,1,2,3,4,5]\n",
    "# slice operator : List[Initial:end:IndexJump]\n",
    "print (a[::-1])\n",
    "print (a[2:5])\n",
    "print (a[::2])\n"
   ]
  },
  {
   "cell_type": "markdown",
   "metadata": {},
   "source": [
    "<strong>Tuples.</strong> Tuples in python are indicated by round brackets (...). Create a tuple with the string values \"L\", \"O\", \"V\", \"E\". We can reference to entries by using the same syntax as for lists. We can also check if a specific entry is in our tuple again by using the keyword <b>in</b>."
   ]
  },
  {
   "cell_type": "code",
   "execution_count": 12,
   "metadata": {},
   "outputs": [
    {
     "name": "stdout",
     "output_type": "stream",
     "text": [
      "()\n",
      "O\n",
      "True\n",
      "(1, 2, 3, 3)\n",
      "<class 'int'> <class 'tuple'>\n",
      "(1, 'h', False)\n"
     ]
    }
   ],
   "source": [
    "my_empty_tuple = ()                     #  create an empty tuple\n",
    "print (my_empty_tuple)\n",
    "\n",
    "my_tuple = (\"L\", \"O\", \"V\", \"E\")\n",
    "print (my_tuple[1])                     # zero-based index!\n",
    "\n",
    "print (\"V\" in my_tuple)\n",
    "\n",
    "my_tuple2 = (1,2,3,3)\n",
    "print (my_tuple2)                       #allows Duplicates and ordered how is already written\n",
    "\n",
    "#my_tuple[0] = \"M\"              \n",
    "#print (my_tuple)                       #tuples unchangeable\n",
    "\n",
    "t1 = (1)\n",
    "t2 = (1,)                               #tuples must provide \",\"\n",
    "print (type(t1),type(t2))\n",
    "\n",
    "t3 = tuple((1,\"h\",False))               #tuple contructor and can have different data types\n",
    "print (t3)"
   ]
  },
  {
   "cell_type": "markdown",
   "metadata": {},
   "source": [
    "<b>Dictionaries I.</b> Create a dictionary with $n$ entries, where the  keys are enumerated from $0$ to $n-1$ and the values are their corresponding keys squared. Use list comprehensions. <br/>\n",
    "Example for expected result: $n = 7; \\{0:0, 1:1, 2:4, 3:9, 4:16, 5:25, 6:36\\}$"
   ]
  },
  {
   "cell_type": "code",
   "execution_count": 2,
   "metadata": {},
   "outputs": [
    {
     "name": "stdout",
     "output_type": "stream",
     "text": [
      "{0: 0, 1: 1}\n",
      "{0: 0, 1: 1, 2: 4, 3: 9, 4: 16, 5: 25, 6: 36}\n",
      "16\n"
     ]
    }
   ],
   "source": [
    "#key:value\n",
    "d0 = {0: 0, 1:1}                         #  explicit define entries\n",
    "d1 = {x : x**2 for x in range(7)}        # define via 'dict. comprehension'\n",
    "print(d0)\n",
    "print (d1)\n",
    "print (d1[4])                            # list[key]=value"
   ]
  },
  {
   "cell_type": "markdown",
   "metadata": {},
   "source": [
    "<b>Dictionaries II.</b> Use the dictionary from the previous assignment. Write a list comprehension to get a list of all the  keys of the  dictionary. "
   ]
  },
  {
   "cell_type": "code",
   "execution_count": 24,
   "metadata": {},
   "outputs": [
    {
     "name": "stdout",
     "output_type": "stream",
     "text": [
      "[0, 1, 2, 3, 4, 5, 6]\n",
      "[0, 1, 4, 9, 16, 25, 36]\n"
     ]
    }
   ],
   "source": [
    "keysList = [x for x in d1]           #keys List\n",
    "print (keysList)\n",
    "valuesList = [d1[x] for x in d1] #values List \n",
    "print (valuesList)\n",
    "\n"
   ]
  },
  {
   "cell_type": "markdown",
   "metadata": {},
   "source": [
    "### Loops and conditionals\n",
    "<b>Loops and conditionals.</b> Using the created list, print each element of the created list if its is an odd number, by using a loop and conditionals. Try using different type of loops."
   ]
  },
  {
   "cell_type": "code",
   "execution_count": 25,
   "metadata": {},
   "outputs": [
    {
     "name": "stdout",
     "output_type": "stream",
     "text": [
      "1\n",
      "3\n",
      "5\n",
      "7\n",
      "9\n"
     ]
    }
   ],
   "source": [
    "# Version with for-loop\n",
    "for e in l0:                                #for all elements of l0 execute:\n",
    "    if e%2 != 0:\n",
    "        print(e)"
   ]
  },
  {
   "cell_type": "code",
   "execution_count": 28,
   "metadata": {},
   "outputs": [
    {
     "name": "stdout",
     "output_type": "stream",
     "text": [
      "1\n",
      "3\n",
      "5\n",
      "7\n",
      "9\n"
     ]
    }
   ],
   "source": [
    "# Version w/ while-loop\n",
    "i = 0\n",
    "while i <len(l0):\n",
    "    # if l0[i]%2 != 0:\n",
    "    #     print(l0[i])\n",
    "    if l0[i] & 1:                             #bitwise operation \n",
    "          print (l0[i])                       #bin() : outpute binary of an Integer\n",
    "    i+=1                                      #int() : output Integer                    "
   ]
  },
  {
   "cell_type": "code",
   "execution_count": 12,
   "metadata": {},
   "outputs": [
    {
     "name": "stdout",
     "output_type": "stream",
     "text": [
      "[1, 3, 5, 7, 9]\n"
     ]
    }
   ],
   "source": [
    "# Version with list comprehension\n",
    "l2 = [x for x in l0 if x%2 !=0]\n",
    "print(l2)"
   ]
  },
  {
   "cell_type": "markdown",
   "metadata": {},
   "source": [
    "<b>List Comprehensions.</b> Now, generate a list which contains all numbers from 0 to $n$ which have been squared using list comprehensions."
   ]
  },
  {
   "cell_type": "code",
   "execution_count": 13,
   "metadata": {},
   "outputs": [
    {
     "name": "stdout",
     "output_type": "stream",
     "text": [
      "[1, 9, 25]\n"
     ]
    }
   ],
   "source": [
    "l3 = [x for x in [x**2 for x in range(7)] if x%2 !=0]\n",
    "print(l3)"
   ]
  },
  {
   "cell_type": "markdown",
   "metadata": {},
   "source": [
    "### Functions"
   ]
  },
  {
   "cell_type": "markdown",
   "metadata": {},
   "source": [
    "<b>Functions. </b> Write a function which takes an integer $n$. The function first creates a list of numbers from $0$ to $n$. Then, squares each number of the list. Further each of the squared numbers is tested if it is odd. All odd numbers are then appended to a new list. The function returns the list of odd (squared) numbers."
   ]
  },
  {
   "cell_type": "code",
   "execution_count": 14,
   "metadata": {},
   "outputs": [
    {
     "name": "stdout",
     "output_type": "stream",
     "text": [
      "[1, 9, 25]\n",
      "[1, 2, 3]\n"
     ]
    }
   ],
   "source": [
    "def get_odd(n):\n",
    "    \"\"\"\n",
    "    Return odd numbers \n",
    "    \"\"\"\n",
    "    return [x for x in [x**2 for x in range(n)] if x%2 !=0]\n",
    "\n",
    "print(get_odd(7))\n",
    "\n",
    "\n",
    "list_ = [1,2,3]\n",
    "print (list_)"
   ]
  },
  {
   "cell_type": "markdown",
   "metadata": {},
   "source": [
    "### Object-Oriented Programming"
   ]
  },
  {
   "cell_type": "markdown",
   "metadata": {},
   "source": [
    "<b>Object oriented programming I. </b> We deal now with object oriented programming in Python. For this purpose perform the following steps: \n",
    "* Write a $Point$ class. A $Point$ class takes and $x$ and $y$ coordinate as an argument.\n",
    "* Further this class shall have a setter method $setXY$ which takes and $x$ and $y$ coordinate and sets the attributes to the new provided values.\n",
    "* The class shall also have a getter method $getXY$ which returns the current $x$ and $y$ coordinates of the point.\n",
    "* Write a method distance which takes another $point$ object and returns the euclidean distance between the provided point and the point itself. <i>Hint: Take import math to use math.sqrt(value) in order to compute the square root.</i>"
   ]
  },
  {
   "cell_type": "code",
   "execution_count": 7,
   "metadata": {},
   "outputs": [
    {
     "name": "stdout",
     "output_type": "stream",
     "text": [
      "2\n",
      "3\n",
      "(2,3)\n",
      "--------\n",
      "--------\n"
     ]
    },
    {
     "data": {
      "text/plain": [
       "5.0"
      ]
     },
     "execution_count": 7,
     "metadata": {},
     "output_type": "execute_result"
    }
   ],
   "source": [
    "import math\n",
    "\n",
    "#OOP : object.var , object.methode\n",
    "\n",
    "\n",
    "class Point(object):\n",
    "    \"\"\"\n",
    "    Class for a Point                  \n",
    "    \"\"\"                                 #self related all vars and methods to the class, it must come as first Argument of the functions\n",
    "                                        #self can be renamed for ex: def __init__(belongsToClass, x, y)\n",
    "    def __init__(self, x, y):           #constructor of objects\n",
    "        #java: this.x = x;              #x,y : attributes or properties or instance vars\n",
    "        self.x = x\n",
    "        self.y = y\n",
    "\n",
    "    def __str__(self):                  #string representation of class \n",
    "        return f\"({self.x},{self.y})\"\n",
    "    \n",
    "    def setXY(self, x, y):              #setter func.\n",
    "        \"\"\"\n",
    "        sets the coordinates\n",
    "        \"\"\"\n",
    "        self.x = x\n",
    "        self.y = y\n",
    "        \n",
    "    def getXY(self):                    #getter func.\n",
    "        return (self.x,self.y)\n",
    "    \n",
    "    def distance(self, otherpoint):\n",
    "        d = (self.x-otherpoint.x)**2 + (self.y-otherpoint.y)**2\n",
    "        return math.sqrt(d)\n",
    "\n",
    "p1 = Point(2,3)                         #p1 : make an object or instance of class Point\n",
    "print (p1.x)\n",
    "print (p1.y)\n",
    "print (p1)\n",
    "print(\"--------\")\n",
    "p2 = Point(1,2)\n",
    "p2.setXY(4,5)\n",
    "p2.getXY()\n",
    "print (\"--------\")\n",
    "p1.distance(Point(5,7))"
   ]
  },
  {
   "cell_type": "markdown",
   "metadata": {},
   "source": [
    "<b>Object oriented programming II : Inheritance </b> In a next step, the task is to create a class $Shape$. For this purpose perform the following steps:\n",
    "* Create a class $Shape$ which takes a name and a color as parameters.\n",
    "* Define a method $area$ which just returns $0.0$.\n",
    "* Define a method $perimeter$ which just return $0.0$.\n",
    "\n",
    "Now, create a class Rectangle which inherits from $Shape$ and in which you $implement$ the $area$ and $perimeter$ methods."
   ]
  },
  {
   "cell_type": "code",
   "execution_count": 2,
   "metadata": {},
   "outputs": [
    {
     "name": "stdout",
     "output_type": "stream",
     "text": [
      "Perimeter of rectangle r:  31.0\n",
      "Area of rectangle r:  55.0\n"
     ]
    }
   ],
   "source": [
    "class Point(object):                           \n",
    "                                        \n",
    "    def __init__(self, x, y):           \n",
    "        #java: this.x = x;              \n",
    "        self.x = x\n",
    "        self.y = y\n",
    "\n",
    "\n",
    "class Shape(object): # inheriting from object is not necessary in python3\n",
    "    \n",
    "    def __init__(self, name, color):\n",
    "        self.name = name\n",
    "        self.color = color\n",
    "        \n",
    "    def area(self):\n",
    "        return 0.0\n",
    "    \n",
    "    def perimeter(self):\n",
    "        return 0.0\n",
    "    \n",
    "\n",
    "class Rectangle(Shape):\n",
    "    def __init__(self, corner:Point, width, height, color):\n",
    "        #super(...) 'equivalent':\n",
    "        Shape.__init__(self, \"rectangle\", color)    #to inherit from Shape the \"Shape\" must come \n",
    "        self.corner = corner\n",
    "        self.width = width\n",
    "        self.height = height\n",
    "    \n",
    "    def perimeter(self) -> float:                   # \"->\" : return function Annotation\n",
    "        return self.width*2 + self.height*2         #Mohit\n",
    "    \n",
    "    def area(self):                                 #Masahat\n",
    "        return self.width * self.height\n",
    "    \n",
    "\n",
    "r = Rectangle(Point(4,4),10,5.5,'pink')\n",
    "print('Perimeter of rectangle r: ',r.perimeter())\n",
    "print('Area of rectangle r: ', r.area())   "
   ]
  },
  {
   "cell_type": "markdown",
   "metadata": {},
   "source": [
    "### Numpy - used for Numerical Analysis"
   ]
  },
  {
   "cell_type": "markdown",
   "metadata": {},
   "source": [
    "<b>Numpy I - some basic functions</b>. In this block, you will become familiar with the numpy library and some of its basic functionality. Please also consider to consult the documentation  https://docs.scipy.org/doc/numpy-dev/index.html if needed. Solve the following tasks:\n",
    "* Create an numpy array of floats containing the numbers from $0$ to $4$.\n",
    "* Create the following matrix as a numpy matrix: $M = [[1,2,3], [4,5,6]]$.\n",
    "* Get the shape and type of the matrix $M$.\n",
    "* Check if the value $2$ is in $M$.\n",
    "* Given the array $a = np.array([0,1,2,3,4,5,6,7,8,9], float)$. Reshape it to an $5\\times2$ matrix.\n",
    "* Transpose the previously introduced matrix $M$.\n",
    "* Flatten matrix $M$.\n",
    "* Given the array $b = np.array ([0,1,2,3], float)$. Increase the dimensionality of $b$.\n",
    "* Create matrices with dimensions 2x3, one containing zeros, the other ones\n",
    "* Create and $3\\times 3$ identity matrix."
   ]
  },
  {
   "cell_type": "code",
   "execution_count": 23,
   "metadata": {},
   "outputs": [
    {
     "name": "stdout",
     "output_type": "stream",
     "text": [
      "1:  [0. 1. 2. 3. 4.]\n",
      "2:  1\n",
      "3:  (2, 3)\n",
      "4:  int32\n",
      "5:  True\n",
      "6:  [0. 1. 2. 3. 4. 5. 6. 7. 8. 9.]\n",
      "8:  [[0. 1.]\n",
      " [2. 3.]\n",
      " [4. 5.]\n",
      " [6. 7.]\n",
      " [8. 9.]]\n",
      "9:  [[1. 2. 3.]\n",
      " [4. 5. 6.]]\n",
      "10:  [[1. 4.]\n",
      " [2. 5.]\n",
      " [3. 6.]]\n",
      "11:  [1. 4. 2. 5. 3. 6.]\n",
      "12:  [1. 4. 2. 5. 3. 6.]\n",
      "13:  [0. 1. 2. 3.]\n",
      "14:  [[0.]\n",
      " [1.]\n",
      " [2.]\n",
      " [3.]]\n",
      "15:  [[1. 0. 0.]\n",
      " [0. 1. 0.]\n",
      " [0. 0. 1.]]\n",
      "16:  [[1. 1. 1.]\n",
      " [1. 1. 1.]]\n"
     ]
    }
   ],
   "source": [
    "import numpy as np\n",
    "\n",
    "#create an np array with float as type\n",
    "arr0 = np.array([0, 1,2,3,4], float)\n",
    "print (\"1: \",arr0)\n",
    "\n",
    "#create a 2x3 matrix using np arrays\n",
    "arr1 = np.array([[1,2,3],[4,5,6]], int)\n",
    "print (\"2: \",arr1[0,0])\n",
    "\n",
    "#get shape of an array\n",
    "print (\"3: \",arr1.shape)\n",
    "\n",
    "#getting type of array\n",
    "print (\"4: \",arr1.dtype)\n",
    "\n",
    "#check if a particular value is in the array\n",
    "print (\"5: \",[2,4,6] in arr1)\n",
    "\n",
    "#reshape an array e.g. 1x10 to an 5x2 array\n",
    "arr2 = np.array(range(10), float)\n",
    "print(\"6: \",arr2)\n",
    "arr3 = arr2.reshape((5,2))\n",
    "print(\"8: \",arr3)\n",
    "\n",
    "# #fill matrix with specific value\n",
    "# arr4 = np.array(range(10))\n",
    "# arr4.fill(42)\n",
    "# print(arr4)\n",
    "\n",
    "#transpose an array\n",
    "arr5 = np.array([[1,2,3],[4,5,6]], float)\n",
    "arr6 = arr5.transpose() # short notation arr5.T\n",
    "print(\"9: \",arr5)\n",
    "print(\"10: \",arr6)\n",
    "\n",
    "#flatten an array...\n",
    "print(\"11: \",arr6.flatten())\n",
    "print(\"12: \",arr6.ravel())\n",
    "\n",
    "#increasing dimensionality of an array\n",
    "arr7 = np.array([0, 1, 2, 3],float)\n",
    "print(\"13: \",arr7)\n",
    "print(\"14: \",arr7[:,np.newaxis])\n",
    "\n",
    "#getting an identity matrix\n",
    "print(\"15: \",np.identity(3,float))\n",
    "\n",
    "#array of ones\n",
    "print(\"16: \",np.ones((2,3),float))\n",
    "\n",
    "#array of zeros\n",
    "#print(\"15: \",np.zeros((2,3),int),\"\\n\")     =>      [[0. 0. 0.]\n",
    "#                                                  [0. 0. 0.]]"
   ]
  },
  {
   "cell_type": "markdown",
   "metadata": {},
   "source": [
    "<b>Numpy II - linear algebra and statistics. </b> This assignment has its focus on numpy function of the linear algebra and statistics domain. Solve the following tasks using numpy:\n",
    "* Given the following two numpy array: $a=np.array([1,2,3], float)$, $b=([4,5,6],float)$. Compute the dot product of $a$ and $b$\n",
    "* Given the following matrix $M = [[1,2,3], [4,5,6], [7,8,9]]$, compute the determinant of $M$ by using the $linalg$ package of the numpy library.\n",
    "* Compute the eigenvalues and eigenvectors of $M$\n",
    "* Compute the inverse of $M$\n",
    "* Given the numpy array $c=np.array([1,4,3,8,3,2,3], float)$, compute the mean of $c$\n",
    "* using $c$, compute the median.\n",
    "* given the following matrix $C=[[1,1], [3,4]]$, compute the covariance of $C$."
   ]
  },
  {
   "cell_type": "code",
   "execution_count": 14,
   "metadata": {},
   "outputs": [
    {
     "name": "stdout",
     "output_type": "stream",
     "text": [
      "1:  [ 4. 10. 18.]\n",
      "2:  32.0\n",
      "3:  23.999999999999993\n",
      "4:  [12.45416474 -0.37976219 -5.07440255]\n",
      "------\n",
      "5:  [[-0.29373774 -0.73967882 -0.29720654]\n",
      " [-0.69005397  0.66500848 -0.39870229]\n",
      " [-0.66147083 -0.10314536  0.86758559]]\n",
      "6:  [[-1.79166667  0.91666667 -0.125     ]\n",
      " [ 1.58333333 -0.83333333  0.25      ]\n",
      " [-0.125       0.25       -0.125     ]]\n",
      "7: mean:  4.285714285714286\n",
      "8: median:  3.0\n",
      "9: mode:  [3.]\n",
      "10: cov:  [[0.  0. ]\n",
      " [0.  0.5]]\n"
     ]
    },
    {
     "name": "stderr",
     "output_type": "stream",
     "text": [
      "C:\\Users\\mehti\\AppData\\Local\\Temp\\ipykernel_1336\\1182781400.py:30: FutureWarning: Unlike other reduction functions (e.g. `skew`, `kurtosis`), the default behavior of `mode` typically preserves the axis it acts along. In SciPy 1.11.0, this behavior will change: the default value of `keepdims` will become False, the `axis` over which the statistic is taken will be eliminated, and the value None will no longer be accepted. Set `keepdims` to True or False to avoid this warning.\n",
      "  print(\"9: mode: \",stats.mode(arr11)[0])\n"
     ]
    }
   ],
   "source": [
    "import numpy as np\n",
    "from scipy import stats\n",
    "\n",
    "arr8 = np.array([1,2,3],float)\n",
    "arr9 = np.array([4,5,6],float)\n",
    "\n",
    "# ELEMENTWISE PRODUCT\n",
    "print(\"1: \",np.multiply(arr8,arr9))\n",
    "\n",
    "# DOT PRODUCT\n",
    "print(\"2: \",np.dot(arr8,arr9))\n",
    "\n",
    "# DETERMINANT\n",
    "arr10 = np.array([[1,2,3],[4,5,6],[7,8,1]],float)           #det(arr10) = 1(5*1-6*8)-2(4*1-6*7)+3(4*8-7*5)=24\n",
    "print(\"3: \",np.linalg.det(arr10))\n",
    "\n",
    "# COMPUTE EIGENVALUES AND EIGENVECTORS                          matrix*eigenvec = eigenvals*eigenvec\n",
    "eigenvals, eigenvecs = np.linalg.eig(arr10)\n",
    "print(\"4: \",eigenvals)\n",
    "print(\"------\")\n",
    "print(\"5: \",eigenvecs)\n",
    "\n",
    "# COMPUTE INVERSE                                               1/det(matrix)*matrix\n",
    "print(\"6: \",np.linalg.pinv(arr10))\n",
    "\n",
    "# COMPUTE MEAN AND MEDIAN                                       \n",
    "arr11 = np.array([1,4,3,8,9,2,3],float)\n",
    "print(\"7: mean: \",np.mean(arr11))                               #average of data set\n",
    "print(\"8: median: \",np.median(arr11))                           #middle of the set of numbers\n",
    "print(\"9: mode: \",stats.mode(arr11)[0])                         #most common number in a data set\n",
    "\n",
    "# COMPUTE COVARIANCE                                            #linear independence of variables\n",
    "arr12 = np.array([[1,1],[3,4]],float)\n",
    "print('10: cov: ',np.cov(arr12))"
   ]
  },
  {
   "cell_type": "markdown",
   "metadata": {},
   "source": [
    "### Matplotlib - Plotting"
   ]
  },
  {
   "cell_type": "markdown",
   "metadata": {},
   "source": [
    "<b>Matplotlib - Plotting figures in Python. </b> In this assignment we are finally going to become familiar with the plotting library of Python. For this we solve the following tasks below. Please consider to consult the documentation if needed: https://matplotlib.org/contents.html.\n",
    "\n",
    "* Given a list of data points : $dpts=[(3,3),(4,5),(4.5,6),(9,7)]$. Plot the function using $plt.plot(xcoors, ycoors)$\n",
    "* You are given two tiny clusters $c_1 = [(1,2),(3,1),(0,1),(2,2)]$ and $c_2=[(12,9),(8,10),(11,11), (14,13)]$. Plot them in a scatter plot using $plt.scatter(xcoors, ycoors)$, where $c_1$ and $c_2$ have different colors. The $\\mathrm{x-axis}$ represents the time spent at a parking lot in hours, and the $\\mathrm{y-axis}$ represents the money spent in euro. Create axis labels for your figure.\n",
    "* Take the two clusters $c_1$ and $c_2$ together and compute their pairwise distances, storing them in a matrix. Plot the resulting matrix as a heatmap using $plt.imshow(my\\_matrix, cmap='coolwarm')$."
   ]
  },
  {
   "cell_type": "code",
   "execution_count": 19,
   "metadata": {},
   "outputs": [
    {
     "name": "stdout",
     "output_type": "stream",
     "text": [
      "[3. 5. 6. 7.]\n"
     ]
    },
    {
     "data": {
      "image/png": "[encoded data removed]",
      "text/plain": [
       "<Figure size 432x288 with 1 Axes>"
      ]
     },
     "metadata": {
      "needs_background": "light"
     },
     "output_type": "display_data"
    },
    {
     "data": {
      "image/png": "[encoded data removed]",
      "text/plain": [
       "<Figure size 432x288 with 1 Axes>"
      ]
     },
     "metadata": {
      "needs_background": "light"
     },
     "output_type": "display_data"
    },
    {
     "data": {
      "text/plain": [
       "<matplotlib.colorbar.Colorbar at 0x7f99952c9a00>"
      ]
     },
     "execution_count": 19,
     "metadata": {},
     "output_type": "execute_result"
    },
    {
     "data": {
      "image/png": "[encoded data removed]",
      "text/plain": [
       "<Figure size 432x288 with 2 Axes>"
      ]
     },
     "metadata": {
      "needs_background": "light"
     },
     "output_type": "display_data"
    }
   ],
   "source": [
    "import matplotlib.pyplot as plt\n",
    "%matplotlib inline\n",
    "\n",
    "#1\n",
    "dpts = np.asarray([(3,3),(4,5),(4.5,6),(9,7)])\n",
    "\n",
    "#access second column (y-coordinates)\n",
    "print(dpts[:,1])\n",
    "\n",
    "plt.figure()\n",
    "plt.plot(dpts[:,0],dpts[:,1])\n",
    "plt.ylabel('y-axis')\n",
    "plt.xlabel('x-axis')\n",
    "\n",
    "\n",
    "#2 scatter plot\n",
    "c1 = np.array([(1,2),(3,1),(0,1),(2,2)])\n",
    "c2 = np.array([(12,9),(8,10),(11,11),(14,13)])\n",
    "\n",
    "plt.figure()\n",
    "plt.scatter(c1[:,0],c1[:,1], color='r')\n",
    "plt.scatter(c2[:,0],c2[:,1], color='b')\n",
    "plt.xlabel('time spent at parking lot [h]')\n",
    "plt.ylabel('money spent [€]')\n",
    "plt.title(\"Fancy studies\")\n",
    "plt.show()\n",
    "\n",
    "#3 now for something completely different: heatmap...\n",
    "from scipy.spatial import distance\n",
    "\n",
    "distmx = []\n",
    "c_pts = np.vstack((c1, c2))\n",
    "for e in c_pts:\n",
    "    newrow = []\n",
    "    for f in c_pts:\n",
    "        d = distance.euclidean(e,f)\n",
    "        newrow.append(d)\n",
    "    distmx.append(newrow)\n",
    "        \n",
    "plt.imshow(distmx, cmap='coolwarm', interpolation='nearest')\n",
    "plt.colorbar()"
   ]
  },
  {
   "cell_type": "markdown",
   "metadata": {},
   "source": [
    "---\n",
    "# APPENDIX - built-in functions + lambda functions + copies\n",
    "---"
   ]
  },
  {
   "cell_type": "markdown",
   "metadata": {},
   "source": [
    "<b>map. </b> First, write a function which takes a length in $inch$ and returns a length in $cm$. Given a list $l$ with lengths in $inches$: $l=[4,4.5,5,5.5,6,7]$. Write a list comprehension which takes $l$ and returns a list with all values converted to $cm$ using $map()$."
   ]
  },
  {
   "cell_type": "code",
   "execution_count": 20,
   "metadata": {},
   "outputs": [],
   "source": [
    "linch = [4,4.5,5,5.5,6,7]\n",
    "\n",
    "def inch_to_cm(length):\n",
    "    return length*2.54"
   ]
  },
  {
   "cell_type": "code",
   "execution_count": 21,
   "metadata": {},
   "outputs": [
    {
     "name": "stdout",
     "output_type": "stream",
     "text": [
      "[10.16, 11.43, 12.7, 13.97, 15.24, 17.78]\n"
     ]
    }
   ],
   "source": [
    "lcm = list(map(inch_to_cm, linch))\n",
    "print(lcm)"
   ]
  },
  {
   "cell_type": "markdown",
   "metadata": {},
   "source": [
    "<b>filter. </b> Write a list comprehension which filters the list $l$ from the assignment above by returning only sizes between $4$ and $6$ $inches$."
   ]
  },
  {
   "cell_type": "code",
   "execution_count": 22,
   "metadata": {},
   "outputs": [
    {
     "name": "stdout",
     "output_type": "stream",
     "text": [
      "[4.5, 5, 5.5]\n"
     ]
    }
   ],
   "source": [
    "lrange = list(filter(lambda x: x > 4 and x < 6, linch))\n",
    "print(lrange)"
   ]
  },
  {
   "cell_type": "markdown",
   "metadata": {},
   "source": [
    "<b>reduce. </b> Write a list comprehension which reduces the list $l$ by summing up all lenghts.<br/>\n",
    "<i>Hint: for using the reduce function, you need to import it first by: from functools import reduce</i>"
   ]
  },
  {
   "cell_type": "code",
   "execution_count": 23,
   "metadata": {},
   "outputs": [
    {
     "name": "stdout",
     "output_type": "stream",
     "text": [
      "32.0\n"
     ]
    }
   ],
   "source": [
    "from functools import reduce\n",
    "lsum = reduce(lambda x,y: x+y, linch)\n",
    "print(lsum)"
   ]
  },
  {
   "cell_type": "markdown",
   "metadata": {},
   "source": [
    "<b>Zipping of lists.</b> Given the following two lists, wher eone list represents the $x-Coordinate$ and another one the $y-Coordinate$:<br/>\n",
    "* $xcoors = [0,1,2,3,4,5]$\n",
    "* $ycoors = [6,7,8,9,10,11]$\n",
    "\n",
    "Write a function which zips the  two lists to a list of coordinate-tuples:<br/>\n",
    "* $xycoors = [(0,6),(1,7),(2,8),(3,9),(4,10),(5,11)]$"
   ]
  },
  {
   "cell_type": "code",
   "execution_count": 24,
   "metadata": {},
   "outputs": [
    {
     "name": "stdout",
     "output_type": "stream",
     "text": [
      "[(0, 6), (1, 7), (2, 8), (3, 9), (4, 10), (5, 11)]\n",
      "[(0, 6, 99), (1, 7, 98), (2, 8, 97), (3, 9, 96), (4, 10, 95), (5, 11, 94)]\n"
     ]
    }
   ],
   "source": [
    "xcoors = [0,1,2,3,4,5] \n",
    "ycoors = [6,7,8,9,10,11]\n",
    "zcoors = [99, 98, 97, 96, 95, 94]\n",
    "\n",
    "#'manual zipping'\n",
    "def manualzip(lisa, lisb):\n",
    "    reslis = []\n",
    "    for i in range(min(len(lisa),len(lisb))):\n",
    "        reslis.append((lisa[i],lisb[i]))\n",
    "    return reslis\n",
    "\n",
    "print(manualzip(xcoors,ycoors))\n",
    "\n",
    "print(list(zip(xcoors,ycoors, zcoors)))"
   ]
  },
  {
   "cell_type": "markdown",
   "metadata": {},
   "source": [
    "<b>Unzipping of lists.</b> Now, we are given a list of data points where the first dimension of each data point represents the age of a person and the second dimension the amount of money spent for chocolate per month in euro:\n",
    "* $chocage = [(20,8), (33,18), (27,14),(66,23),(90,100)]$\n",
    "\n",
    "Write a function which takes the  list and separates it into two lists, one containing the ages and another one containing its corresponding amount of money spent for chocolate. The result would be e.g.:\n",
    "* $age = [20,33,27,66,90]$\n",
    "* $money\\_spent = [8,18,14,23,100]$"
   ]
  },
  {
   "cell_type": "code",
   "execution_count": 25,
   "metadata": {},
   "outputs": [
    {
     "name": "stdout",
     "output_type": "stream",
     "text": [
      "[(20, 33, 27, 66, 90), (8, 18, 14, 23, 100)]\n",
      "[(20, 33, 27, 66, 90), (8, 18, 14, 23, 100)]\n"
     ]
    }
   ],
   "source": [
    "chocage = [(20,8), (33,18), (27,14), (66,23), (90,100)]\n",
    "\n",
    "#'manual unzipping'\n",
    "def manualunzip(tuplelis):\n",
    "    lisa = []\n",
    "    lisb = []\n",
    "    for e in tuplelis:\n",
    "        a, b = e\n",
    "        lisa.append(a)\n",
    "        lisb.append(b)\n",
    "    return [tuple(lisa),tuple(lisb)]\n",
    "\n",
    "print(manualunzip(chocage))\n",
    "    \n",
    "print(list(zip(*chocage)))"
   ]
  },
  {
   "cell_type": "markdown",
   "metadata": {},
   "source": [
    "<b>Lambda functions.</b> Write a list comprehension which takes a number $n$ and returns a list with even numbers, using a lambda function."
   ]
  },
  {
   "cell_type": "code",
   "execution_count": 26,
   "metadata": {},
   "outputs": [
    {
     "name": "stdout",
     "output_type": "stream",
     "text": [
      "[0, 2, 4, 6]\n"
     ]
    }
   ],
   "source": [
    "even1 = lambda x: x%2 ==0\n",
    "l7 = [x for x in range(7) if even1(x)]\n",
    "print(l7)"
   ]
  },
  {
   "cell_type": "markdown",
   "metadata": {},
   "source": [
    "<b>Shallow Copy I.</b> Given a list $a=['I','like','cookies']$ and another list which takes a shallow copy of $a$, $b=a[:]$. Like in the previous assignment, replace in the list $b$ the word $'cookies'$ with $'apples'$. Finally, print both lists ($a$ and $b$). What do you observe now?"
   ]
  },
  {
   "cell_type": "code",
   "execution_count": 27,
   "metadata": {},
   "outputs": [
    {
     "name": "stdout",
     "output_type": "stream",
     "text": [
      "list a3: ['I', 'like', 'cookies']\n",
      "list b3: ['I', 'like', 'apples']\n",
      "140298329764224 140297609695168\n",
      "140297608868272 140298330663472\n"
     ]
    }
   ],
   "source": [
    "a3 =  ['I','like','cookies']\n",
    "b3 = a3[:]\n",
    "b3[2] = 'apples'\n",
    "print(\"list a3: \"+str(a3))\n",
    "print(\"list b3: \"+str(b3))\n",
    "print(id(a3),id(b3))\n",
    "print(id(a3[2]),id(b3[2]))"
   ]
  },
  {
   "cell_type": "markdown",
   "metadata": {},
   "source": [
    "<b>Shallow Copy II.</b> Now, we are given a list $a = ['I', 'like', ['chocolate', 'cookies']]$. Another list $b = deepcopy(a)$ takes this time a deep copy from $a$. Change now the work $'cookies'$ with $'apples'$ in $b$. Print both lists ($a$ and $b$). What do you observe now?<br/>\n",
    "<i>Hint: For deep copy. first type: from copy import deepcopy</i>"
   ]
  },
  {
   "cell_type": "code",
   "execution_count": 28,
   "metadata": {},
   "outputs": [
    {
     "name": "stdout",
     "output_type": "stream",
     "text": [
      "list a4: ['I', 'like', ['chocolate', 'apples']]\n",
      "list b4: ['I', 'like', ['chocolate', 'apples']]\n",
      "140297609147456 140297609147456\n"
     ]
    }
   ],
   "source": [
    "from copy import deepcopy\n",
    "from copy import copy\n",
    "\n",
    "a4 =  ['I','like',['chocolate', 'cookies']]\n",
    "b4 = copy(a4)\n",
    "# b4 = deepcopy(a4)\n",
    "b4[2][1] = 'apples'\n",
    "print(\"list a4: \"+str(a4))\n",
    "print(\"list b4: \"+str(b4))\n",
    "print(id(a4[2]),id(b4[2]))"
   ]
  }
 ],
 "metadata": {
  "kernelspec": {
   "display_name": "Python 3.9.13 ('iot')",
   "language": "python",
   "name": "python3"
  },
  "language_info": {
   "codemirror_mode": {
    "name": "ipython",
    "version": 3
   },
   "file_extension": ".py",
   "mimetype": "text/x-python",
   "name": "python",
   "nbconvert_exporter": "python",
   "pygments_lexer": "ipython3",
   "version": "3.9.13"
  },
  "vscode": {
   "interpreter": {
    "hash": "5d0b4874cd61f340b5c0aa6ab4bf257669cce3744ca87512d6dff3d0095f493e"
   }
  }
 },
 "nbformat": 4,
 "nbformat_minor": 4
}
